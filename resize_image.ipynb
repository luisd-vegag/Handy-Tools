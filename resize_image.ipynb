{
 "cells": [
  {
   "cell_type": "code",
   "execution_count": 1,
   "metadata": {},
   "outputs": [],
   "source": [
    "from PIL import Image\n",
    "\n",
    "# Load the image using PIL\n",
    "img = Image.open('./input_image.png')\n",
    "\n",
    "# Get the dimensions of the image\n",
    "width, height = img.size\n",
    "\n",
    "# Set the new width of the image\n",
    "new_width = 1920\n",
    "\n",
    "# Calculate the new height of the image based on the aspect ratio\n",
    "new_height = int(height * (new_width / float(width)))\n",
    "\n",
    "# Resize the image using PIL\n",
    "resized_img = img.resize((new_width, new_height), Image.BICUBIC)\n",
    "\n",
    "# Save the resized image\n",
    "resized_img.save(\"output_image.png\")\n"
   ]
  }
 ],
 "metadata": {
  "kernelspec": {
   "display_name": "Python 3",
   "language": "python",
   "name": "python3"
  },
  "language_info": {
   "codemirror_mode": {
    "name": "ipython",
    "version": 3
   },
   "file_extension": ".py",
   "mimetype": "text/x-python",
   "name": "python",
   "nbconvert_exporter": "python",
   "pygments_lexer": "ipython3",
   "version": "3.8.10"
  },
  "orig_nbformat": 4,
  "vscode": {
   "interpreter": {
    "hash": "916dbcbb3f70747c44a77c7bcd40155683ae19c65e1c03b4aa3499c5328201f1"
   }
  }
 },
 "nbformat": 4,
 "nbformat_minor": 2
}
