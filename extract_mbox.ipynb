{
 "cells": [
  {
   "cell_type": "code",
   "execution_count": 11,
   "metadata": {},
   "outputs": [],
   "source": [
    "import os\n",
    "import mailbox\n",
    "import csv\n",
    "def extract_mbox(file_path):\n",
    "    mbox = mailbox.mbox(file_path)\n",
    "    path_to_csv = file_path.rsplit('/', 1)[0]\n",
    "    with open(f'{path_to_csv}/emails.csv', 'w', newline='', encoding='utf-8') as csvfile:\n",
    "        fieldnames = ['From', 'To', 'Subject', 'Date', 'Message', 'Attachment_Path']\n",
    "        writer = csv.DictWriter(csvfile, fieldnames=fieldnames)\n",
    "        writer.writeheader()\n",
    "\n",
    "        for message in mbox:\n",
    "            attachment_paths = []\n",
    "            for part in message.walk():\n",
    "                if part.get_content_disposition() == 'attachment':\n",
    "                    filename = part.get_filename()\n",
    "                    if filename:\n",
    "                        # Generate a unique name for the attachment file\n",
    "                        attachment_name = f\"{message['Message-ID'].strip('<>')}_{filename}\"\n",
    "                        # Create the 'attachments' folder if it does not exist\n",
    "                        if not os.path.exists(f'{path_to_csv}/attachments'):\n",
    "                            os.mkdir(f'{path_to_csv}/attachments')\n",
    "                        # Save the attachment file to the 'attachments' folder\n",
    "                        attachment_path = os.path.join(f'{path_to_csv}/attachments', attachment_name)\n",
    "                        payload = part.get_payload(decode=True)\n",
    "                        if payload is not None:\n",
    "                            with open(attachment_path, 'wb') as f:\n",
    "                                f.write(payload)\n",
    "                            attachment_paths.append(attachment_path)\n",
    "\n",
    "            row = {}\n",
    "            row['From'] = message['From']\n",
    "            row['To'] = message['To']\n",
    "            row['Subject'] = message['Subject']\n",
    "            row['Date'] = message['Date']\n",
    "            row['Message'] = message.get_payload()\n",
    "            row['Attachment_Path'] = ';'.join(attachment_paths)\n",
    "            writer.writerow(row)\n"
   ]
  },
  {
   "cell_type": "code",
   "execution_count": 12,
   "metadata": {},
   "outputs": [],
   "source": [
    "extract_mbox('/home/lv/Downloads/google_takeout/Takeout/Mail/All mail Including Spam and Trash.mbox')\n"
   ]
  }
 ],
 "metadata": {
  "kernelspec": {
   "display_name": "Python 3",
   "language": "python",
   "name": "python3"
  },
  "language_info": {
   "codemirror_mode": {
    "name": "ipython",
    "version": 3
   },
   "file_extension": ".py",
   "mimetype": "text/x-python",
   "name": "python",
   "nbconvert_exporter": "python",
   "pygments_lexer": "ipython3",
   "version": "3.8.10"
  },
  "orig_nbformat": 4,
  "vscode": {
   "interpreter": {
    "hash": "916dbcbb3f70747c44a77c7bcd40155683ae19c65e1c03b4aa3499c5328201f1"
   }
  }
 },
 "nbformat": 4,
 "nbformat_minor": 2
}
