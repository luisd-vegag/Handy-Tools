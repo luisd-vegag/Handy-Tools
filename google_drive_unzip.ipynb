{
 "cells": [
  {
   "cell_type": "code",
   "execution_count": null,
   "metadata": {},
   "outputs": [],
   "source": [
    "import os\n",
    "import shutil\n",
    "import zipfile\n",
    "\n",
    "def unzip_folders(root_folder):\n",
    "    # Create a dictionary to store subfolders with the same name\n",
    "    subfolders = {}\n",
    "\n",
    "    # Loop through each zip file in the root folder\n",
    "    for file_name in os.listdir(root_folder):\n",
    "        if file_name.endswith('.zip'):\n",
    "            # Extract the contents of the zip file to a temporary folder\n",
    "            with zipfile.ZipFile(os.path.join(root_folder, file_name), 'r') as zip_ref:\n",
    "                temp_folder = os.path.join(root_folder, 'tmp')\n",
    "                zip_ref.extractall(temp_folder)\n",
    "\n",
    "            # Loop through each subfolder in the temporary folder\n",
    "            for subfolder_name in os.listdir(temp_folder):\n",
    "                # Skip the subfolder if it has the same name as the zip file\n",
    "                if subfolder_name == os.path.splitext(file_name)[0]:\n",
    "                    continue\n",
    "                # If the subfolder has already been seen, copy its contents to the existing subfolder\n",
    "                elif subfolder_name in subfolders:\n",
    "                    existing_subfolder = subfolders[subfolder_name]\n",
    "                    shutil.copytree(os.path.join(temp_folder, subfolder_name), os.path.join(existing_subfolder, subfolder_name), dirs_exist_ok=True)\n",
    "                # Otherwise, create a new subfolder and add it to the dictionary\n",
    "                else:\n",
    "                    subfolder_path = os.path.join(root_folder, subfolder_name)\n",
    "                    if not os.path.exists(subfolder_path):\n",
    "                        os.mkdir(subfolder_path)\n",
    "                    shutil.copytree(os.path.join(temp_folder, subfolder_name), os.path.join(subfolder_path, subfolder_name))\n",
    "                    subfolders[subfolder_name] = subfolder_path\n",
    "\n",
    "            # Remove the temporary folder\n",
    "            shutil.rmtree(temp_folder)\n",
    "\n",
    "    # Check if the root folder has a subfolder with the same name\n",
    "    root_folder_contents = os.listdir(root_folder)\n",
    "    folders = []\n",
    "    for root_folder_content in os.listdir(root_folder):\n",
    "        if root_folder_content.endswith('.zip') == False:\n",
    "            folders.append(root_folder_content)\n",
    "    if len(folders) == 1:\n",
    "        subfolder_path = os.path.join(root_folder, folders[0])\n",
    "        subfolders_list = os.listdir(subfolder_path)\n",
    "        if len(subfolders_list) == 1 and folders[0] == subfolders_list[0]:\n",
    "            same_name_subfolder_path = os.path.join(subfolder_path, subfolders_list[0])\n",
    "            print(subfolder_path) \n",
    "            print(same_name_subfolder_path)      \n",
    "\n",
    "            for item in os.listdir(same_name_subfolder_path):\n",
    "                item_path = os.path.join(same_name_subfolder_path, item)\n",
    "                if os.path.isfile(item_path):\n",
    "                    shutil.copy(item_path, os.path.join(subfolder_path, item))\n",
    "                else:\n",
    "                    shutil.move(item_path, subfolder_path)\n",
    "            shutil.rmtree(same_name_subfolder_path) "
   ]
  },
  {
   "cell_type": "code",
   "execution_count": null,
   "metadata": {},
   "outputs": [],
   "source": [
    "# Call the function with the root folder\n",
    "unzip_folders('/home/lv/Downloads/google_takeout')"
   ]
  }
 ],
 "metadata": {
  "kernelspec": {
   "display_name": "Python 3",
   "language": "python",
   "name": "python3"
  },
  "language_info": {
   "codemirror_mode": {
    "name": "ipython",
    "version": 3
   },
   "file_extension": ".py",
   "mimetype": "text/x-python",
   "name": "python",
   "nbconvert_exporter": "python",
   "pygments_lexer": "ipython3",
   "version": "3.8.10"
  },
  "orig_nbformat": 4,
  "vscode": {
   "interpreter": {
    "hash": "916dbcbb3f70747c44a77c7bcd40155683ae19c65e1c03b4aa3499c5328201f1"
   }
  }
 },
 "nbformat": 4,
 "nbformat_minor": 2
}
